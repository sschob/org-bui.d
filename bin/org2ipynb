#!/usr/bin/env sh
":"; exec emacs --quick --script "$0" -- "$@" # -*- mode: emacs-lisp; lexical-binding: t; -*-
;;; bin/export_lecture


;;; Code:
;;;
;;;
;;;

(defun usage()
   (with-temp-buffer
    (insert (format "%s %s [OPTIONS] [SRC_FILE]\n"
                    "[1mUsage:[0m"
                    (file-name-nondirectory load-file-name))
            "A command line interface for exporting org-mode files to jupyter notebooks."
            "\n"
            "[1mOptions:[0m\n"
            "  -H --header FILE \tHeader file\n"
            "     --org         \tExport to org first\n"
            "  -o --output FILENAME \tOutput file name\n")
    (princ (buffer-string))) )

(defun orgb-export-buffer-ipynb (file filename)
  (let ((outfile (format "%s.%s" (file-name-sans-extension filename) "ipynb" )))
    (with-temp-buffer

      (find-file src-file)
      (-each orgb-hook (lambda (x) (funcall x)))
      ;; run functions in pre-export-hook
      (-each orgb-pre-export-hook (lambda (x) (funcall x)))
      (with-current-buffer (ox-ipynb-export-to-ipynb-buffer)
        (write-file outfile))
      )))

;; main
;;

(setq working_dir (concat (getenv-internal "PWD") "/"))
(setq this-file-dir  (file-name-directory load-file-name))
(setq orgb-hook '())
(setq orgb-pre-export-hook '())

(load-file (concat this-file-dir "../init.el"))
(require 'dash)

(let (src-file header-file output-file)
  (pop argv)
  (while argv
    (let ((arg (pop argv)))
      (pcase arg
        ((or "-h" "--help")
         (usage)
         (error ""))
        ((or "--org")
         (add-to-list 'orgb-pre-export-hook #'org-org-export-as-org)
         ;; or could we use a hook in ox-ipynb?
         )
        ((or "-o" "--output")
         (setq output-file (pop argv)))
        ((or "-H" "--header")
         (setq header-file (pop argv))
         )
        ((guard (file-exists-p arg))
         (setq src-file arg))
        (_ (error "Unknown option or file: %s" arg)))))

  (unless (or (not header-file) (file-exists-p header-file))
    (print ("Header-file does not exist"))
    )

  (unless src-file
    (progn
      (print "Missing argument src file")
      (error)))

  (unless output-file
    (setq output-file (format "%s.%s" (file-name-sans-extension src-file) "pdf")))

  (setq output-file (concat working_dir  output-file))

  (if header-file
      (progn
        (setq header-file (concat working_dir  header-file))
        (add-to-list 'orgb-hook #'(lambda () (progn (princ (format "insert header file")) (goto-char (point-min)) (insert (format "#+include: %s\n" header-file)))))
    ))

  (orgb-export-buffer-ipynb src-file output-file))

(kill-emacs 0)

;;; org2pdf ends here
